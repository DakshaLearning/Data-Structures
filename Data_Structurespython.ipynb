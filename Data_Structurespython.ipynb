{
  "nbformat": 4,
  "nbformat_minor": 0,
  "metadata": {
    "colab": {
      "name": "Data Structurespython.ipynb",
      "provenance": [],
      "collapsed_sections": []
    },
    "kernelspec": {
      "name": "python3",
      "display_name": "Python 3"
    }
  },
  "cells": [
    {
      "cell_type": "code",
      "metadata": {
        "id": "HeAerEFstqR0",
        "colab_type": "code",
        "colab": {}
      },
      "source": [
        "import array"
      ],
      "execution_count": 0,
      "outputs": []
    },
    {
      "cell_type": "code",
      "metadata": {
        "id": "bGdPiS0stwSK",
        "colab_type": "code",
        "colab": {
          "base_uri": "https://localhost:8080/",
          "height": 101
        },
        "outputId": "6cbe163d-c90b-4576-c22e-e0ca4d96aa76"
      },
      "source": [
        "data=array.array('i',[1,2,3,4,5])\n",
        "\n",
        "for _ in data:\n",
        "  print(_)"
      ],
      "execution_count": 4,
      "outputs": [
        {
          "output_type": "stream",
          "text": [
            "1\n",
            "2\n",
            "3\n",
            "4\n",
            "5\n"
          ],
          "name": "stdout"
        }
      ]
    },
    {
      "cell_type": "code",
      "metadata": {
        "id": "YM0zD0sguEzU",
        "colab_type": "code",
        "colab": {}
      },
      "source": [
        "data.append(10)"
      ],
      "execution_count": 0,
      "outputs": []
    },
    {
      "cell_type": "code",
      "metadata": {
        "id": "IwAcECw5uJqU",
        "colab_type": "code",
        "colab": {
          "base_uri": "https://localhost:8080/",
          "height": 34
        },
        "outputId": "2ad522fb-b54d-43d8-8857-a6d4db109fb0"
      },
      "source": [
        "data"
      ],
      "execution_count": 6,
      "outputs": [
        {
          "output_type": "execute_result",
          "data": {
            "text/plain": [
              "array('i', [1, 2, 3, 4, 5, 10])"
            ]
          },
          "metadata": {
            "tags": []
          },
          "execution_count": 6
        }
      ]
    },
    {
      "cell_type": "code",
      "metadata": {
        "id": "rs927Jx0uKs7",
        "colab_type": "code",
        "colab": {}
      },
      "source": [
        "data.insert(2,9)"
      ],
      "execution_count": 0,
      "outputs": []
    },
    {
      "cell_type": "code",
      "metadata": {
        "id": "y5kbC5Nougnj",
        "colab_type": "code",
        "colab": {
          "base_uri": "https://localhost:8080/",
          "height": 34
        },
        "outputId": "765aee86-29fd-445d-d9ac-170256de8340"
      },
      "source": [
        "data"
      ],
      "execution_count": 9,
      "outputs": [
        {
          "output_type": "execute_result",
          "data": {
            "text/plain": [
              "array('i', [1, 2, 9, 3, 4, 5, 10])"
            ]
          },
          "metadata": {
            "tags": []
          },
          "execution_count": 9
        }
      ]
    },
    {
      "cell_type": "code",
      "metadata": {
        "id": "dweUvXpeuoIi",
        "colab_type": "code",
        "colab": {}
      },
      "source": [
        ""
      ],
      "execution_count": 0,
      "outputs": []
    },
    {
      "cell_type": "code",
      "metadata": {
        "id": "_9t_sms2gNSr",
        "colab_type": "code",
        "outputId": "86c79bfb-ada4-4d3e-878f-538dd4cd0c1c",
        "colab": {
          "base_uri": "https://localhost:8080/",
          "height": 90
        }
      },
      "source": [
        "class Node:\n",
        "\n",
        "    def __init__(self, data):\n",
        "\n",
        "        self.left = None\n",
        "        self.right = None\n",
        "        self.data = data\n",
        "\n",
        "    def insert(self, data):\n",
        "# Compare the new value with the parent node\n",
        "        if self.data:\n",
        "            if data < self.data:\n",
        "                if self.left is None:\n",
        "                    self.left = Node(data)\n",
        "                else:\n",
        "                    self.left.insert(data)\n",
        "            elif data > self.data:\n",
        "                if self.right is None:\n",
        "                    self.right = Node(data)\n",
        "                else:\n",
        "                    self.right.insert(data)\n",
        "        else:\n",
        "            self.data = data\n",
        "\n",
        "# Print the tree\n",
        "    def PrintTree(self):\n",
        "        if self.left:\n",
        "            self.left.PrintTree()\n",
        "        print( self.data),\n",
        "        if self.right:\n",
        "            self.right.PrintTree()\n",
        "\n",
        "# Use the insert method to add nodes\n",
        "root = Node(12)\n",
        "root.insert(6)\n",
        "root.insert(14)\n",
        "root.insert(3)\n",
        "\n",
        "root.PrintTree()"
      ],
      "execution_count": 0,
      "outputs": [
        {
          "output_type": "stream",
          "text": [
            "3\n",
            "6\n",
            "12\n",
            "14\n"
          ],
          "name": "stdout"
        }
      ]
    },
    {
      "cell_type": "code",
      "metadata": {
        "id": "eoc751KlgifZ",
        "colab_type": "code",
        "outputId": "925b472d-2c89-4ddf-c972-5a4783c87cf4",
        "colab": {
          "base_uri": "https://localhost:8080/",
          "height": 72
        }
      },
      "source": [
        "class Node:\n",
        "\n",
        "    def __init__(self, data):\n",
        "\n",
        "        self.left = None\n",
        "        self.right = None\n",
        "        self.data = data\n",
        "\n",
        "# Insert method to create nodes\n",
        "    def insert(self, data):\n",
        "\n",
        "        if self.data:\n",
        "            if data < self.data:\n",
        "                if self.left is None:\n",
        "                    self.left = Node(data)\n",
        "                else:\n",
        "                    self.left.insert(data)\n",
        "            elif data > self.data:\n",
        "                if self.right is None:\n",
        "                    self.right = Node(data)\n",
        "                else:\n",
        "                    self.right.insert(data)\n",
        "        else:\n",
        "            self.data = data\n",
        "# findval method to compare the value with nodes\n",
        "    def findval(self, lkpval):\n",
        "        if lkpval < self.data:\n",
        "            if self.left is None:\n",
        "                return str(lkpval)+\" Not Found\"\n",
        "            return self.left.findval(lkpval)\n",
        "        elif lkpval > self.data:\n",
        "            if self.right is None:\n",
        "                return str(lkpval)+\" Not Found\"\n",
        "            return self.right.findval(lkpval)\n",
        "        else:\n",
        "            print(str(self.data) + ' is found')\n",
        "# Print the tree\n",
        "    def PrintTree(self):\n",
        "        if self.left:\n",
        "            self.left.PrintTree()\n",
        "        print( self.data),\n",
        "        if self.right:\n",
        "            self.right.PrintTree()\n",
        "\n",
        "\n",
        "root = Node(12)\n",
        "root.insert(6)\n",
        "root.insert(14)\n",
        "root.insert(3)\n",
        "print(root.findval(7))\n",
        "print(root.findval(14))"
      ],
      "execution_count": 0,
      "outputs": [
        {
          "output_type": "stream",
          "text": [
            "7 Not Found\n",
            "14 is found\n",
            "None\n"
          ],
          "name": "stdout"
        }
      ]
    },
    {
      "cell_type": "code",
      "metadata": {
        "id": "mZZ617jClGU1",
        "colab_type": "code",
        "colab": {}
      },
      "source": [
        "# Linked list\n",
        "class Node:\n",
        "    def __init__(self, dataval=None):\n",
        "        self.dataval = dataval\n",
        "        self.nextval = None\n",
        "\n",
        "class SLinkedList:\n",
        "    def __init__(self):\n",
        "        self.headval = None\n",
        "\n",
        "list1 = SLinkedList()\n",
        "list1.headval = Node(\"Mon\")\n",
        "e2 = Node(\"Tue\")\n",
        "e3 = Node(\"Wed\")\n",
        "# Link first Node to second node\n",
        "list1.headval.nextval = e2\n",
        "\n",
        "# Link second Node to third node\n",
        "e2.nextval = e3\n"
      ],
      "execution_count": 0,
      "outputs": []
    },
    {
      "cell_type": "code",
      "metadata": {
        "id": "yw7e_Yb1lO0E",
        "colab_type": "code",
        "outputId": "13232a52-f8b3-42a0-ac11-e176fff76f01",
        "colab": {
          "base_uri": "https://localhost:8080/",
          "height": 72
        }
      },
      "source": [
        "\n",
        "class Node:\n",
        "    def __init__(self, dataval=None):\n",
        "        self.dataval = dataval\n",
        "        self.nextval = None\n",
        "\n",
        "class SLinkedList:\n",
        "    def __init__(self):\n",
        "        self.headval = None\n",
        "\n",
        "    def listprint(self):\n",
        "        printval = self.headval\n",
        "        while printval is not None:\n",
        "            print (printval.dataval)\n",
        "            printval = printval.nextval\n",
        "\n",
        "list = SLinkedList()\n",
        "list.headval = Node(\"Mon\")\n",
        "e2 = Node(\"Tue\")\n",
        "e3 = Node(\"Wed\")\n",
        "\n",
        "# Link first Node to second node\n",
        "list.headval.nextval = e2\n",
        "\n",
        "# Link second Node to third node\n",
        "e2.nextval = e3\n",
        "\n",
        "list.listprint()"
      ],
      "execution_count": 0,
      "outputs": [
        {
          "output_type": "stream",
          "text": [
            "Mon\n",
            "Tue\n",
            "Wed\n"
          ],
          "name": "stdout"
        }
      ]
    },
    {
      "cell_type": "code",
      "metadata": {
        "id": "KxrnYf_glYWE",
        "colab_type": "code",
        "outputId": "45496127-b582-4f47-b223-9160b0512cd8",
        "colab": {
          "base_uri": "https://localhost:8080/",
          "height": 90
        }
      },
      "source": [
        "#Inserting at the Beginning of the Linked List\n",
        "\n",
        "class Node:\n",
        "    def __init__(self, dataval=None):\n",
        "        self.dataval = dataval\n",
        "        self.nextval = None\n",
        "\n",
        "class SLinkedList:\n",
        "    def __init__(self):\n",
        "        self.headval = None\n",
        "\n",
        "# Print the linked list\n",
        "    def listprint(self):\n",
        "        printval = self.headval\n",
        "        while printval is not None:\n",
        "            print (printval.dataval)\n",
        "            printval = printval.nextval\n",
        "    def AtBegining(self,newdata):\n",
        "        NewNode = Node(newdata)\n",
        "\n",
        "# Update the new nodes next val to existing node\n",
        "        NewNode.nextval = self.headval\n",
        "        self.headval = NewNode\n",
        "\n",
        "list = SLinkedList()\n",
        "list.headval = Node(\"Mon\")\n",
        "e2 = Node(\"Tue\")\n",
        "e3 = Node(\"Wed\")\n",
        "\n",
        "list.headval.nextval = e2\n",
        "e2.nextval = e3\n",
        "\n",
        "list.AtBegining(\"Sun\")\n",
        "\n",
        "list.listprint()\n"
      ],
      "execution_count": 0,
      "outputs": [
        {
          "output_type": "stream",
          "text": [
            "Sun\n",
            "Mon\n",
            "Tue\n",
            "Wed\n"
          ],
          "name": "stdout"
        }
      ]
    },
    {
      "cell_type": "code",
      "metadata": {
        "id": "LTm1Fe_dltA1",
        "colab_type": "code",
        "outputId": "e8a2700a-8b8b-4152-e3ed-5dc1a7b04feb",
        "colab": {
          "base_uri": "https://localhost:8080/",
          "height": 90
        }
      },
      "source": [
        "# adding the data at end\n",
        "\n",
        "class Node:\n",
        "    def __init__(self, dataval=None):\n",
        "        self.dataval = dataval\n",
        "        self.nextval = None\n",
        "\n",
        "class SLinkedList:\n",
        "    def __init__(self):\n",
        "        self.headval = None\n",
        "\n",
        "# Function to add newnode\n",
        "    def AtEnd(self, newdata):\n",
        "        NewNode = Node(newdata)\n",
        "        if self.headval is None:\n",
        "            self.headval = NewNode\n",
        "            return\n",
        "        laste = self.headval\n",
        "        while(laste.nextval):\n",
        "            laste = laste.nextval\n",
        "        laste.nextval=NewNode\n",
        "\n",
        "# Print the linked list\n",
        "    def listprint(self):\n",
        "        printval = self.headval\n",
        "        while printval is not None:\n",
        "            print (printval.dataval)\n",
        "            printval = printval.nextval\n",
        "\n",
        "\n",
        "list = SLinkedList()\n",
        "list.headval = Node(\"Mon\")\n",
        "e2 = Node(\"Tue\")\n",
        "e3 = Node(\"Wed\")\n",
        "\n",
        "list.headval.nextval = e2\n",
        "e2.nextval = e3\n",
        "\n",
        "list.AtEnd(\"Thu\")\n",
        "\n",
        "list.listprint()\n",
        "\n"
      ],
      "execution_count": 0,
      "outputs": [
        {
          "output_type": "stream",
          "text": [
            "Mon\n",
            "Tue\n",
            "Wed\n",
            "Thu\n"
          ],
          "name": "stdout"
        }
      ]
    },
    {
      "cell_type": "code",
      "metadata": {
        "id": "cY5ZvtpFmitB",
        "colab_type": "code",
        "outputId": "c22db815-96d3-4f87-e03a-08284477f3c8",
        "colab": {
          "base_uri": "https://localhost:8080/",
          "height": 90
        }
      },
      "source": [
        "# inserting the data between nodes\n",
        "class Node:\n",
        "    def __init__(self, dataval=None):\n",
        "        self.dataval = dataval\n",
        "        self.nextval = None\n",
        "\n",
        "class SLinkedList:\n",
        "    def __init__(self):\n",
        "        self.headval = None\n",
        "\n",
        "# Function to add node\n",
        "    def Inbetween(self,middle_node,newdata):\n",
        "        if middle_node is None:\n",
        "            print(\"The mentioned node is absent\")\n",
        "            return\n",
        "\n",
        "        NewNode = Node(newdata)\n",
        "        NewNode.nextval = middle_node.nextval\n",
        "        middle_node.nextval = NewNode\n",
        "\n",
        "# Print the linked list\n",
        "    def listprint(self):\n",
        "        printval = self.headval\n",
        "        while printval is not None:\n",
        "            print (printval.dataval)\n",
        "            printval = printval.nextval\n",
        "\n",
        "\n",
        "list = SLinkedList()\n",
        "list.headval = Node(\"Mon\")\n",
        "e2 = Node(\"Tue\")\n",
        "e3 = Node(\"Thu\")\n",
        "\n",
        "list.headval.nextval = e2\n",
        "e2.nextval = e3\n",
        "\n",
        "list.Inbetween(list.headval.nextval,\"Fri\")\n",
        "\n",
        "list.listprint()"
      ],
      "execution_count": 0,
      "outputs": [
        {
          "output_type": "stream",
          "text": [
            "Mon\n",
            "Tue\n",
            "Fri\n",
            "Thu\n"
          ],
          "name": "stdout"
        }
      ]
    },
    {
      "cell_type": "code",
      "metadata": {
        "id": "lcd0UAzOnIwJ",
        "colab_type": "code",
        "outputId": "ddafb0ec-19bb-4390-83fb-83328dbdb738",
        "colab": {
          "base_uri": "https://localhost:8080/",
          "height": 54
        }
      },
      "source": [
        "#Stacks\n",
        "class Stack:\n",
        "\n",
        "    def __init__(self):\n",
        "        self.stack = []\n",
        "\n",
        "    def add(self, dataval):\n",
        "# Use list append method to add element\n",
        "        if dataval not in self.stack:\n",
        "            self.stack.append(dataval)\n",
        "            return True\n",
        "        else:\n",
        "            return False\n",
        "# Use peek to look at the top of the stack\n",
        "\n",
        "    def peek(self):     \n",
        "\t    return self.stack[-1]\n",
        "\n",
        "AStack = Stack()\n",
        "AStack.add(\"Mon\")\n",
        "AStack.add(\"Tue\")\n",
        "AStack.peek()\n",
        "print(AStack.peek())\n",
        "AStack.add(\"Wed\")\n",
        "AStack.add(\"Thu\")\n",
        "print(AStack.peek())"
      ],
      "execution_count": 0,
      "outputs": [
        {
          "output_type": "stream",
          "text": [
            "Tue\n",
            "Thu\n"
          ],
          "name": "stdout"
        }
      ]
    },
    {
      "cell_type": "code",
      "metadata": {
        "id": "lSE8RDNMq2gY",
        "colab_type": "code",
        "outputId": "c9a6d988-75cb-4d4d-a6b8-02dd1ceda824",
        "colab": {
          "base_uri": "https://localhost:8080/",
          "height": 54
        }
      },
      "source": [
        "# Pop options\n",
        "class Stack:\n",
        "\n",
        "    def __init__(self):\n",
        "        self.stack = []\n",
        "\n",
        "    def add(self, dataval):\n",
        "# Use list append method to add element\n",
        "        if dataval not in self.stack:\n",
        "            self.stack.append(dataval)\n",
        "            return True\n",
        "        else:\n",
        "            return False\n",
        "        \n",
        "# Use list pop method to remove element\n",
        "    def remove(self):\n",
        "        if len(self.stack) <= 0:\n",
        "            return (\"No element in the Stack\")\n",
        "        else:\n",
        "            return self.stack.pop()\n",
        "\n",
        "AStack = Stack()\n",
        "AStack.add(\"Mon\")\n",
        "AStack.add(\"Tue\")\n",
        "AStack.add(\"Wed\")\n",
        "AStack.add(\"Thu\")\n",
        "print(AStack.remove())\n",
        "print(AStack.remove())"
      ],
      "execution_count": 0,
      "outputs": [
        {
          "output_type": "stream",
          "text": [
            "Thu\n",
            "Wed\n"
          ],
          "name": "stdout"
        }
      ]
    },
    {
      "cell_type": "code",
      "metadata": {
        "id": "TfvHhRaIrHL3",
        "colab_type": "code",
        "outputId": "f6532a2c-076e-4055-e827-188692e39067",
        "colab": {
          "base_uri": "https://localhost:8080/",
          "height": 34
        }
      },
      "source": [
        "# Queues\n",
        "class Queue:\n",
        "\n",
        "  def __init__(self):\n",
        "      self.queue = list()\n",
        "\n",
        "  def addtoq(self,dataval):\n",
        "# Insert method to add element\n",
        "      if dataval not in self.queue:\n",
        "          self.queue.insert(0,dataval)\n",
        "          return True\n",
        "      return False\n",
        "\n",
        "  def size(self):\n",
        "      return len(self.queue)\n",
        "\n",
        "TheQueue = Queue()\n",
        "TheQueue.addtoq(\"Mon\")\n",
        "TheQueue.addtoq(\"Tue\")\n",
        "TheQueue.addtoq(\"Wed\")\n",
        "print(TheQueue.size())\n",
        "\n"
      ],
      "execution_count": 1,
      "outputs": [
        {
          "output_type": "stream",
          "text": [
            "3\n"
          ],
          "name": "stdout"
        }
      ]
    },
    {
      "cell_type": "code",
      "metadata": {
        "id": "_zxm21wdr9DX",
        "colab_type": "code",
        "outputId": "9f7926d0-1f8a-4bf4-f92c-4ddebe4f4ab3",
        "colab": {
          "base_uri": "https://localhost:8080/",
          "height": 50
        }
      },
      "source": [
        "class Queue:\n",
        "\n",
        "  def __init__(self):\n",
        "      self.queue = list()\n",
        "\n",
        "  def addtoq(self,dataval):\n",
        "# Insert method to add element\n",
        "      if dataval not in self.queue:\n",
        "          self.queue.insert(0,dataval)\n",
        "          return True\n",
        "      return False\n",
        "# Pop method to remove element\n",
        "  def removefromq(self):\n",
        "      if len(self.queue)>0:\n",
        "          return self.queue.pop()\n",
        "      return (\"No elements in Queue!\")\n",
        "\n",
        "TheQueue = Queue()\n",
        "TheQueue.addtoq(\"Mon\")\n",
        "TheQueue.addtoq(\"Tue\")\n",
        "TheQueue.addtoq(\"Wed\")\n",
        "print(TheQueue.removefromq())\n",
        "print(TheQueue.removefromq())"
      ],
      "execution_count": 2,
      "outputs": [
        {
          "output_type": "stream",
          "text": [
            "Mon\n",
            "Tue\n"
          ],
          "name": "stdout"
        }
      ]
    },
    {
      "cell_type": "code",
      "metadata": {
        "id": "ROSGJZ2hsicH",
        "colab_type": "code",
        "colab": {}
      },
      "source": [
        "# Stacks- From Last\n",
        "# Ques - from begining"
      ],
      "execution_count": 0,
      "outputs": []
    },
    {
      "cell_type": "code",
      "metadata": {
        "id": "6DZcoNNBrtUH",
        "colab_type": "code",
        "colab": {}
      },
      "source": [
        ""
      ],
      "execution_count": 0,
      "outputs": []
    },
    {
      "cell_type": "code",
      "metadata": {
        "id": "1OCok_HnrdVe",
        "colab_type": "code",
        "colab": {}
      },
      "source": [
        ""
      ],
      "execution_count": 0,
      "outputs": []
    },
    {
      "cell_type": "code",
      "metadata": {
        "id": "cyEH2k1yqqFO",
        "colab_type": "code",
        "colab": {}
      },
      "source": [
        ""
      ],
      "execution_count": 0,
      "outputs": []
    }
  ]
}