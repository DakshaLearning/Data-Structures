{
  "nbformat": 4,
  "nbformat_minor": 0,
  "metadata": {
    "colab": {
      "name": "Data structures1.ipynb",
      "provenance": [],
      "collapsed_sections": []
    },
    "kernelspec": {
      "name": "python3",
      "display_name": "Python 3"
    }
  },
  "cells": [
    {
      "cell_type": "code",
      "metadata": {
        "id": "lrVwuQPOo4UX",
        "colab_type": "code",
        "outputId": "621e9c01-d0a0-4e4c-bdc6-509f683f7b7d",
        "colab": {
          "base_uri": "https://localhost:8080/",
          "height": 168
        }
      },
      "source": [
        "# Big O notion\n",
        "\n",
        "\"\"\"\n",
        "Kamakshigari suresh\n",
        "\"\"\"\n",
        "import random\n",
        "import timeit\n",
        "\n",
        "print ('N\\tSum Time')\n",
        "for trial in [2**_ for _ in range(1,9)]:\n",
        "    numbers = [random.randint(1,9) for _ in range(trial)]\n",
        "    m = timeit.timeit(stmt='sum = 0\\nfor d in numbers:\\n\\tsum = sum + d',\n",
        "                  setup='import random\\nnumbers = ' + str(numbers))\n",
        "    print ('{0:d}\\t{1:f}'.format(trial, m))\n",
        "\n"
      ],
      "execution_count": 0,
      "outputs": [
        {
          "output_type": "stream",
          "text": [
            "N\tSum Time\n",
            "2\t0.115022\n",
            "4\t0.157429\n",
            "8\t0.261787\n",
            "16\t0.493909\n",
            "32\t0.892584\n",
            "64\t1.846893\n",
            "128\t4.217263\n",
            "256\t8.941605\n"
          ],
          "name": "stdout"
        }
      ]
    },
    {
      "cell_type": "code",
      "metadata": {
        "id": "klgOhKVupMXf",
        "colab_type": "code",
        "outputId": "ad607c1f-fa11-4988-802a-68c519ffe584",
        "colab": {
          "base_uri": "https://localhost:8080/",
          "height": 185
        }
      },
      "source": [
        "import random\n",
        "import timeit\n",
        "\n",
        "def uniqueCheckFast(aList):\n",
        "    \"\"\"\n",
        "    Return True if aList contains any duplicates. Its contents are not\n",
        "    altered and completes in O(n) time with O(n) space required. The\n",
        "    individual elements must be hashable.\n",
        "    \"\"\"\n",
        "    check = set()\n",
        "    for v in aList:\n",
        "        if v in check:\n",
        "            return True\n",
        "        check.add(v)\n",
        "    return False\n",
        "\n",
        "def uniqueCheckSlow(aList):\n",
        "    \"\"\"\n",
        "    Return True if aList contains any duplicates. Its contents are not\n",
        "    altered and completes in O(n^2) time with no space required. \n",
        "    \"\"\"\n",
        "    for i in range(len(aList)-1):\n",
        "        for j in range(i+1, len(aList)):\n",
        "            if aList[i] == aList[j]:\n",
        "                return True\n",
        "    return False\n",
        "\n",
        "print ('N\\tSlow     \\tFast')\n",
        "for trial in [2**_ for _ in range(1,10)]:\n",
        "    numbers = [random.random() for _ in range(trial)]\n",
        "    mSlow = timeit.timeit(stmt='uniqueCheckSlow(numbers)',\n",
        "                  setup='import random\\nfrom __main__ import uniqueCheckSlow\\nnumbers = ' + str(numbers),\n",
        "                  number=1000)\n",
        "    mFast = timeit.timeit(stmt='uniqueCheckFast(numbers)',\n",
        "                  setup='import random\\nfrom __main__ import uniqueCheckFast\\nnumbers = ' + str(numbers),\n",
        "                  number=1000)\n",
        "\n",
        "    print ('{0:d}\\t{1:f}\\t{2:f}'.format(trial, mSlow, mFast))\n",
        "\n",
        "\n"
      ],
      "execution_count": 0,
      "outputs": [
        {
          "output_type": "stream",
          "text": [
            "N\tSlow     \tFast\n",
            "2\t0.001051\t0.000426\n",
            "4\t0.001588\t0.000983\n",
            "8\t0.004267\t0.001510\n",
            "16\t0.010345\t0.002487\n",
            "32\t0.033365\t0.005262\n",
            "64\t0.117107\t0.010468\n",
            "128\t0.461389\t0.021679\n",
            "256\t1.659298\t0.042102\n",
            "512\t7.440695\t0.090142\n"
          ],
          "name": "stdout"
        }
      ]
    },
    {
      "cell_type": "code",
      "metadata": {
        "id": "d5SRMy8Bpdm5",
        "colab_type": "code",
        "colab": {}
      },
      "source": [
        "class Stack:\n",
        "    def __init__(self):\n",
        "        \"\"\"Demonstrate using list as storage for a Stack.\"\"\"\n",
        "        self.stack = []\n",
        "\n",
        "    def isEmpty(self):\n",
        "        \"\"\"Determines whether stack is empty. O(1) performance\"\"\"\n",
        "        return len(self.stack) == 0\n",
        "\n",
        "    def push(self, v):\n",
        "        \"\"\"Push v onto the stack. O(1) performance.\"\"\"\n",
        "        self.stack.append(v)\n",
        "\n",
        "    def pop(self):\n",
        "        \"\"\"Remove topmost element and return it. O(1) performance.\"\"\"\n",
        "        if self.isEmpty():\n",
        "            raise Exception('Stack is empty.')\n",
        "        return self.stack.pop()\n",
        "\n",
        "    def __repr__(self):\n",
        "        \"\"\"show representation.\"\"\"\n",
        "        return \"stack:\" + str(self.stack)\n"
      ],
      "execution_count": 0,
      "outputs": []
    },
    {
      "cell_type": "code",
      "metadata": {
        "id": "kqhrLwycp5bn",
        "colab_type": "code",
        "colab": {}
      },
      "source": [
        "cl=Stack()\n",
        "cl.push(10)\n",
        "cl.push(20)"
      ],
      "execution_count": 0,
      "outputs": []
    },
    {
      "cell_type": "code",
      "metadata": {
        "id": "7-_-4ctwqEhl",
        "colab_type": "code",
        "outputId": "cf0ca7b4-c807-42fe-a82d-1914d44c53c7",
        "colab": {
          "base_uri": "https://localhost:8080/",
          "height": 34
        }
      },
      "source": [
        "cl"
      ],
      "execution_count": 0,
      "outputs": [
        {
          "output_type": "execute_result",
          "data": {
            "text/plain": [
              "stack:[10, 20]"
            ]
          },
          "metadata": {
            "tags": []
          },
          "execution_count": 6
        }
      ]
    },
    {
      "cell_type": "code",
      "metadata": {
        "id": "Jzr7ExOXqFb0",
        "colab_type": "code",
        "outputId": "73278c20-2906-40fa-f52b-33fe2ba62a02",
        "colab": {
          "base_uri": "https://localhost:8080/",
          "height": 34
        }
      },
      "source": [
        "cl.pop()"
      ],
      "execution_count": 0,
      "outputs": [
        {
          "output_type": "execute_result",
          "data": {
            "text/plain": [
              "20"
            ]
          },
          "metadata": {
            "tags": []
          },
          "execution_count": 7
        }
      ]
    },
    {
      "cell_type": "code",
      "metadata": {
        "id": "j-IWNGgKqI-F",
        "colab_type": "code",
        "outputId": "985f3cc8-d0ee-4548-a579-785b8af192b6",
        "colab": {
          "base_uri": "https://localhost:8080/",
          "height": 34
        }
      },
      "source": [
        "cl"
      ],
      "execution_count": 0,
      "outputs": [
        {
          "output_type": "execute_result",
          "data": {
            "text/plain": [
              "stack:[10]"
            ]
          },
          "metadata": {
            "tags": []
          },
          "execution_count": 8
        }
      ]
    },
    {
      "cell_type": "code",
      "metadata": {
        "id": "HIMtGIQ9qLEs",
        "colab_type": "code",
        "colab": {}
      },
      "source": [
        "class CircularBuffer:\n",
        "    \n",
        "    def __init__(self, size):\n",
        "        \"\"\"Store buffer in given storage.\"\"\"\n",
        "        self.buffer = [None]*size\n",
        "        self.low = 0\n",
        "        self.high = 0\n",
        "        self.size = size\n",
        "        self.count = 0\n",
        "\n",
        "    def isEmpty(self):\n",
        "        \"\"\"Determines if buffer is empty.\"\"\"\n",
        "        return self.count == 0\n",
        "\n",
        "    def isFull(self):\n",
        "        \"\"\"Determines if buffer is full.\"\"\"\n",
        "        return self.count == self.size\n",
        "        \n",
        "    def __len__(self):\n",
        "        \"\"\"Returns number of elements in buffer.\"\"\"\n",
        "        return self.count\n",
        "        \n",
        "    def add(self, value):\n",
        "        \"\"\"Adds value to buffer, overwrite as needed.\"\"\"\n",
        "        if self.isFull():\n",
        "            self.low = (self.low+1) % self.size\n",
        "        else:\n",
        "            self.count += 1\n",
        "        self.buffer[self.high] = value\n",
        "        self.high = (self.high + 1) % self.size\n",
        "    \n",
        "    def remove(self):\n",
        "        \"\"\"Removes oldest value from non-empty buffer.\"\"\"\n",
        "        if self.count == 0:\n",
        "            raise Exception (\"Circular Buffer is empty\");\n",
        "        value = self.buffer[self.low]\n",
        "        self.low = (self.low + 1) % self.size\n",
        "        self.count -= 1\n",
        "        return value\n",
        "    \n",
        "    def __iter__(self):\n",
        "        \"\"\"Return elements in the circular buffer in order using iterator.\"\"\"\n",
        "        idx = self.low\n",
        "        num = self.count\n",
        "        while num > 0:\n",
        "            yield self.buffer[idx]\n",
        "            idx = (idx + 1) % self.size\n",
        "            num -= 1\n",
        "\n",
        "    def __repr__(self):\n",
        "        \"\"\"String representation of circular buffer.\"\"\"\n",
        "        if self.isEmpty():\n",
        "            return 'cb:[]'\n",
        "\n",
        "        return 'cb:[' + ','.join(map(str,self)) + ']'\n"
      ],
      "execution_count": 0,
      "outputs": []
    },
    {
      "cell_type": "code",
      "metadata": {
        "id": "f39VdAFcqcZ3",
        "colab_type": "code",
        "colab": {}
      },
      "source": [
        "cb=CircularBuffer(5)\n",
        "cb.add(1)\n",
        "cb.add(2)\n",
        "cb.add(3)\n",
        "cb.add(4)\n",
        "cb.add(5)"
      ],
      "execution_count": 0,
      "outputs": []
    },
    {
      "cell_type": "code",
      "metadata": {
        "id": "3I-pqhsNq9vc",
        "colab_type": "code",
        "outputId": "778df913-71ab-4428-8019-5e4c08b4c2e9",
        "colab": {
          "base_uri": "https://localhost:8080/",
          "height": 34
        }
      },
      "source": [
        "cb"
      ],
      "execution_count": 0,
      "outputs": [
        {
          "output_type": "execute_result",
          "data": {
            "text/plain": [
              "cb:[1,2,3,4,5]"
            ]
          },
          "metadata": {
            "tags": []
          },
          "execution_count": 22
        }
      ]
    },
    {
      "cell_type": "code",
      "metadata": {
        "id": "jfOzkZU8q-qe",
        "colab_type": "code",
        "outputId": "d42dfddf-fcb7-4082-d377-805317b1a4a8",
        "colab": {
          "base_uri": "https://localhost:8080/",
          "height": 34
        }
      },
      "source": [
        "cb.remove()"
      ],
      "execution_count": 0,
      "outputs": [
        {
          "output_type": "execute_result",
          "data": {
            "text/plain": [
              "1"
            ]
          },
          "metadata": {
            "tags": []
          },
          "execution_count": 14
        }
      ]
    },
    {
      "cell_type": "code",
      "metadata": {
        "id": "iUiWeREMqW1M",
        "colab_type": "code",
        "outputId": "f0ef9aa0-ab8d-4ca3-965a-88aea1044043",
        "colab": {
          "base_uri": "https://localhost:8080/",
          "height": 34
        }
      },
      "source": [
        "cb.add(10)\n",
        "cb"
      ],
      "execution_count": 0,
      "outputs": [
        {
          "output_type": "execute_result",
          "data": {
            "text/plain": [
              "cb:[2,3,4,5,10]"
            ]
          },
          "metadata": {
            "tags": []
          },
          "execution_count": 23
        }
      ]
    },
    {
      "cell_type": "code",
      "metadata": {
        "id": "n6WUwwsrrRZd",
        "colab_type": "code",
        "outputId": "b9bcd46b-7285-43db-9d1b-d020c2ba40a6",
        "colab": {
          "base_uri": "https://localhost:8080/",
          "height": 34
        }
      },
      "source": [
        "cb.remove()"
      ],
      "execution_count": 0,
      "outputs": [
        {
          "output_type": "execute_result",
          "data": {
            "text/plain": [
              "3"
            ]
          },
          "metadata": {
            "tags": []
          },
          "execution_count": 18
        }
      ]
    },
    {
      "cell_type": "code",
      "metadata": {
        "id": "W7RZ1aefrT57",
        "colab_type": "code",
        "outputId": "fe844ac6-be1a-490b-8178-74a0c5ef6259",
        "colab": {
          "base_uri": "https://localhost:8080/",
          "height": 34
        }
      },
      "source": [
        "cb.add(6)\n",
        "cb"
      ],
      "execution_count": 0,
      "outputs": [
        {
          "output_type": "execute_result",
          "data": {
            "text/plain": [
              "cb:[3,4,5,10,6]"
            ]
          },
          "metadata": {
            "tags": []
          },
          "execution_count": 24
        }
      ]
    },
    {
      "cell_type": "code",
      "metadata": {
        "id": "HVgABMJ6rcS_",
        "colab_type": "code",
        "colab": {}
      },
      "source": [
        "def fibonacci(n):\n",
        "    \"\"\"Return first n>=2 elements of fibonacci as list.\"\"\"\n",
        "    a = b = 1\n",
        "    result = [a, b]\n",
        "    while n > 2:\n",
        "        n = n - 1\n",
        "        a,b = b,a+b\n",
        "        result.append(b)\n",
        "    return result\n",
        "\n",
        "def fibonacciGenerator(n):\n",
        "    \"\"\"Return first n>=2 elements of fibonacci as generator.\"\"\"\n",
        "    a = b = 1\n",
        "    yield a\n",
        "    yield b\n",
        "    while n > 2:\n",
        "        n = n - 1\n",
        "        a,b = b,a+b\n",
        "        yield b\n",
        "\n",
        "        "
      ],
      "execution_count": 0,
      "outputs": []
    }
  ]
}